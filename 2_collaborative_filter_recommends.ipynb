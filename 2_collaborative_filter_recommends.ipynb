{
 "cells": [
  {
   "cell_type": "code",
   "execution_count": 5,
   "metadata": {},
   "outputs": [],
   "source": [
    "import pandas as pd # pandas for data manipulation\n",
    "import numpy as np # numpy for sure\n",
    "import matplotlib.pyplot as plt\n",
    "from lightfm import LightFM # model\n",
    "import scipy\n",
    "import pickle"
   ]
  },
  {
   "cell_type": "code",
   "execution_count": 7,
   "metadata": {},
   "outputs": [],
   "source": [
    "#import saved lightFM model and user-production matrix\n",
    "filename = 'saved_models/model_lightfm.pkl'\n",
    "model = pickle.load(open(filename, 'rb'))\n",
    "\n",
    "user_prod_interaction = scipy.sparse.load_npz('saved_models/user_prod_interaction.npz')"
   ]
  },
  {
   "cell_type": "code",
   "execution_count": 9,
   "metadata": {},
   "outputs": [],
   "source": [
    "#import products table\n",
    "path = '/Users/Jeff/Documents/Insight/Data'\n",
    "products = pd.read_csv(path+'/instacart_2017_05_01/products.csv')"
   ]
  },
  {
   "cell_type": "code",
   "execution_count": null,
   "metadata": {},
   "outputs": [],
   "source": [
    "user_id_single = [100]\n",
    "row_ixs = [user_id-1 for user_id in user_id_single] #subtract one to get indices\n",
    "\n",
    "# Look for this user in the user_prod_interaction matrix\n",
    "col_ixs = user_prod_interaction.tocsr()[row_ixs].indices \n",
    "print(col_ixs) #these are the column indices in the matrix. \n",
    "\n",
    "# Need to add 1 to get product ids.\n",
    "user_prod_ids = col_ixs+1\n",
    "\n",
    "# This user purchased these items:\n",
    "purch_products = products.loc[products['product_id'].isin(user_prod_ids)]\n",
    "print('Purchased products:')\n",
    "display(purch_products)\n",
    "\n",
    "# Scores from LightFM model prediction for all products:\n",
    "scores = model.predict(user_ids = row_ixs, item_ids = np.arange(user_prod_interaction.shape[1]))\n",
    "\n",
    "print(scores)\n",
    "# argsort returns column indices from the matrix, but we're using iloc so no need to increment\n",
    "recom_products = products.iloc[np.argsort(-scores)] \n",
    "\n",
    "print('Recommended products:')\n",
    "display(recom_products.head(5))"
   ]
  }
 ],
 "metadata": {
  "kernelspec": {
   "display_name": "Python 3",
   "language": "python",
   "name": "python3"
  },
  "language_info": {
   "codemirror_mode": {
    "name": "ipython",
    "version": 3
   },
   "file_extension": ".py",
   "mimetype": "text/x-python",
   "name": "python",
   "nbconvert_exporter": "python",
   "pygments_lexer": "ipython3",
   "version": "3.7.6"
  }
 },
 "nbformat": 4,
 "nbformat_minor": 2
}

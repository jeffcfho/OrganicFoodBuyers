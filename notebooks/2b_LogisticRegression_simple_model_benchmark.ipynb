{
 "cells": [
  {
   "cell_type": "markdown",
   "metadata": {},
   "source": [
    "# Using logistic regression to generate a simple benchmark for future models.\n",
    "If I know whether or not a user bought organic food before, how good is that at predicting whether or not they will buy organic in their next order?"
   ]
  },
  {
   "cell_type": "code",
   "execution_count": 1,
   "metadata": {},
   "outputs": [],
   "source": [
    "import pandas as pd\n",
    "import numpy as np\n",
    "import matplotlib.pyplot as plt\n",
    "import pickle\n",
    "from sklearn.model_selection import train_test_split\n",
    "from sklearn.linear_model import LogisticRegression\n",
    "from sklearn import metrics"
   ]
  },
  {
   "cell_type": "code",
   "execution_count": 26,
   "metadata": {},
   "outputs": [
    {
     "name": "stdout",
     "output_type": "stream",
     "text": [
      "[    1     2     5 ... 78704 78705 78707]\n"
     ]
    },
    {
     "data": {
      "text/html": [
       "<div>\n",
       "<style scoped>\n",
       "    .dataframe tbody tr th:only-of-type {\n",
       "        vertical-align: middle;\n",
       "    }\n",
       "\n",
       "    .dataframe tbody tr th {\n",
       "        vertical-align: top;\n",
       "    }\n",
       "\n",
       "    .dataframe thead th {\n",
       "        text-align: right;\n",
       "    }\n",
       "</style>\n",
       "<table border=\"1\" class=\"dataframe\">\n",
       "  <thead>\n",
       "    <tr style=\"text-align: right;\">\n",
       "      <th></th>\n",
       "      <th>order_id</th>\n",
       "      <th>user_id</th>\n",
       "      <th>eval_set</th>\n",
       "      <th>order_number</th>\n",
       "      <th>order_dow</th>\n",
       "      <th>order_hour_of_day</th>\n",
       "      <th>days_since_prior_order</th>\n",
       "      <th>user_id_order</th>\n",
       "      <th>user_id_prevorder</th>\n",
       "      <th>order_id_prev</th>\n",
       "      <th>organic</th>\n",
       "      <th>organic_produce</th>\n",
       "      <th>any_organic</th>\n",
       "      <th>any_organic_produce</th>\n",
       "      <th>organic_non_produce</th>\n",
       "      <th>any_organic_non_produce</th>\n",
       "      <th>organic_prev</th>\n",
       "      <th>organic_produce_prev</th>\n",
       "      <th>any_organic_prev</th>\n",
       "      <th>any_organic_produce_prev</th>\n",
       "    </tr>\n",
       "  </thead>\n",
       "  <tbody>\n",
       "    <tr>\n",
       "      <th>1</th>\n",
       "      <td>1492625</td>\n",
       "      <td>2</td>\n",
       "      <td>train</td>\n",
       "      <td>15</td>\n",
       "      <td>1</td>\n",
       "      <td>11</td>\n",
       "      <td>30.0</td>\n",
       "      <td>2.015</td>\n",
       "      <td>2.014</td>\n",
       "      <td>839880.0</td>\n",
       "      <td>6.0</td>\n",
       "      <td>1.0</td>\n",
       "      <td>True</td>\n",
       "      <td>True</td>\n",
       "      <td>5.0</td>\n",
       "      <td>True</td>\n",
       "      <td>4</td>\n",
       "      <td>3</td>\n",
       "      <td>True</td>\n",
       "      <td>True</td>\n",
       "    </tr>\n",
       "    <tr>\n",
       "      <th>2</th>\n",
       "      <td>2196797</td>\n",
       "      <td>5</td>\n",
       "      <td>train</td>\n",
       "      <td>5</td>\n",
       "      <td>0</td>\n",
       "      <td>11</td>\n",
       "      <td>6.0</td>\n",
       "      <td>5.005</td>\n",
       "      <td>5.004</td>\n",
       "      <td>157374.0</td>\n",
       "      <td>5.0</td>\n",
       "      <td>3.0</td>\n",
       "      <td>True</td>\n",
       "      <td>True</td>\n",
       "      <td>2.0</td>\n",
       "      <td>True</td>\n",
       "      <td>6</td>\n",
       "      <td>3</td>\n",
       "      <td>True</td>\n",
       "      <td>True</td>\n",
       "    </tr>\n",
       "    <tr>\n",
       "      <th>5</th>\n",
       "      <td>1094988</td>\n",
       "      <td>9</td>\n",
       "      <td>train</td>\n",
       "      <td>4</td>\n",
       "      <td>6</td>\n",
       "      <td>10</td>\n",
       "      <td>30.0</td>\n",
       "      <td>9.004</td>\n",
       "      <td>9.003</td>\n",
       "      <td>1830137.0</td>\n",
       "      <td>6.0</td>\n",
       "      <td>1.0</td>\n",
       "      <td>True</td>\n",
       "      <td>True</td>\n",
       "      <td>5.0</td>\n",
       "      <td>True</td>\n",
       "      <td>9</td>\n",
       "      <td>2</td>\n",
       "      <td>True</td>\n",
       "      <td>True</td>\n",
       "    </tr>\n",
       "    <tr>\n",
       "      <th>7</th>\n",
       "      <td>1827621</td>\n",
       "      <td>13</td>\n",
       "      <td>train</td>\n",
       "      <td>13</td>\n",
       "      <td>0</td>\n",
       "      <td>21</td>\n",
       "      <td>8.0</td>\n",
       "      <td>13.013</td>\n",
       "      <td>13.012</td>\n",
       "      <td>1789302.0</td>\n",
       "      <td>1.0</td>\n",
       "      <td>0.0</td>\n",
       "      <td>True</td>\n",
       "      <td>False</td>\n",
       "      <td>1.0</td>\n",
       "      <td>True</td>\n",
       "      <td>0</td>\n",
       "      <td>0</td>\n",
       "      <td>False</td>\n",
       "      <td>False</td>\n",
       "    </tr>\n",
       "    <tr>\n",
       "      <th>8</th>\n",
       "      <td>2316178</td>\n",
       "      <td>14</td>\n",
       "      <td>train</td>\n",
       "      <td>14</td>\n",
       "      <td>2</td>\n",
       "      <td>19</td>\n",
       "      <td>11.0</td>\n",
       "      <td>14.014</td>\n",
       "      <td>14.013</td>\n",
       "      <td>3394109.0</td>\n",
       "      <td>0.0</td>\n",
       "      <td>0.0</td>\n",
       "      <td>False</td>\n",
       "      <td>False</td>\n",
       "      <td>0.0</td>\n",
       "      <td>False</td>\n",
       "      <td>0</td>\n",
       "      <td>0</td>\n",
       "      <td>False</td>\n",
       "      <td>False</td>\n",
       "    </tr>\n",
       "  </tbody>\n",
       "</table>\n",
       "</div>"
      ],
      "text/plain": [
       "   order_id  user_id eval_set  order_number  order_dow  order_hour_of_day  \\\n",
       "1   1492625        2    train            15          1                 11   \n",
       "2   2196797        5    train             5          0                 11   \n",
       "5   1094988        9    train             4          6                 10   \n",
       "7   1827621       13    train            13          0                 21   \n",
       "8   2316178       14    train            14          2                 19   \n",
       "\n",
       "   days_since_prior_order  user_id_order  user_id_prevorder  order_id_prev  \\\n",
       "1                    30.0          2.015              2.014       839880.0   \n",
       "2                     6.0          5.005              5.004       157374.0   \n",
       "5                    30.0          9.004              9.003      1830137.0   \n",
       "7                     8.0         13.013             13.012      1789302.0   \n",
       "8                    11.0         14.014             14.013      3394109.0   \n",
       "\n",
       "   organic  organic_produce  any_organic  any_organic_produce  \\\n",
       "1      6.0              1.0         True                 True   \n",
       "2      5.0              3.0         True                 True   \n",
       "5      6.0              1.0         True                 True   \n",
       "7      1.0              0.0         True                False   \n",
       "8      0.0              0.0        False                False   \n",
       "\n",
       "   organic_non_produce  any_organic_non_produce  organic_prev  \\\n",
       "1                  5.0                     True             4   \n",
       "2                  2.0                     True             6   \n",
       "5                  5.0                     True             9   \n",
       "7                  1.0                     True             0   \n",
       "8                  0.0                    False             0   \n",
       "\n",
       "   organic_produce_prev  any_organic_prev  any_organic_produce_prev  \n",
       "1                     3              True                      True  \n",
       "2                     3              True                      True  \n",
       "5                     2              True                      True  \n",
       "7                     0             False                     False  \n",
       "8                     0             False                     False  "
      ]
     },
     "metadata": {},
     "output_type": "display_data"
    },
    {
     "data": {
      "text/plain": [
       "50000"
      ]
     },
     "metadata": {},
     "output_type": "display_data"
    }
   ],
   "source": [
    "# Bring in modeling data\n",
    "df = pd.read_csv('modeling_dfs/users_order_by_prev_org.csv')\n",
    "df.drop(['Unnamed: 0'],axis=1,inplace=True)\n",
    "\n",
    "df_recs = pd.read_csv('top20_products_recom.csv')\n",
    "print(df_recs['user_id'].unique())\n",
    "df = df.loc[df_recs['user_id'].unique()]\n",
    "\n",
    "display(df.head(5))\n",
    "display(len(df))"
   ]
  },
  {
   "cell_type": "markdown",
   "metadata": {},
   "source": [
    "## Build very simple model with no hyper-parameter tuning"
   ]
  },
  {
   "cell_type": "code",
   "execution_count": 27,
   "metadata": {},
   "outputs": [
    {
     "name": "stdout",
     "output_type": "stream",
     "text": [
      "Features:\n",
      "['any_organic_produce_prev']\n"
     ]
    },
    {
     "data": {
      "text/plain": [
       "LogisticRegression(C=1.0, class_weight=None, dual=False, fit_intercept=True,\n",
       "                   intercept_scaling=1, l1_ratio=None, max_iter=100,\n",
       "                   multi_class='auto', n_jobs=None, penalty='l1',\n",
       "                   random_state=None, solver='liblinear', tol=0.0001, verbose=0,\n",
       "                   warm_start=False)"
      ]
     },
     "execution_count": 27,
     "metadata": {},
     "output_type": "execute_result"
    }
   ],
   "source": [
    "# train the classifier on 80% of the data\n",
    "\n",
    "y_col = 'any_organic_produce'\n",
    "feature_cols = ['any_organic_produce_prev']\n",
    "print('Features:')\n",
    "print(feature_cols)\n",
    "\n",
    "X_train, X_test, y_train, y_test = train_test_split(\n",
    "    df[feature_cols], df[y_col], test_size=0.20, random_state=22)\n",
    "\n",
    "logisticRegr = LogisticRegression(penalty='l1',solver='liblinear')\n",
    "logisticRegr.fit(X_train,y_train)"
   ]
  },
  {
   "cell_type": "markdown",
   "metadata": {},
   "source": [
    "## Predicted organic purchases versus actual organic purchases"
   ]
  },
  {
   "cell_type": "code",
   "execution_count": 28,
   "metadata": {
    "scrolled": false
   },
   "outputs": [
    {
     "name": "stdout",
     "output_type": "stream",
     "text": [
      "predicted distribution:\n"
     ]
    },
    {
     "data": {
      "text/plain": [
       "True     27206\n",
       "False    22794\n",
       "Name: predicted_any_organic_produce, dtype: int64"
      ]
     },
     "metadata": {},
     "output_type": "display_data"
    },
    {
     "data": {
      "text/plain": [
       "True     0.54412\n",
       "False    0.45588\n",
       "Name: predicted_any_organic_produce, dtype: float64"
      ]
     },
     "metadata": {},
     "output_type": "display_data"
    },
    {
     "name": "stdout",
     "output_type": "stream",
     "text": [
      "actual distribution:\n"
     ]
    },
    {
     "data": {
      "text/plain": [
       "True     27399\n",
       "False    22601\n",
       "Name: any_organic_produce, dtype: int64"
      ]
     },
     "metadata": {},
     "output_type": "display_data"
    },
    {
     "data": {
      "text/plain": [
       "True     0.54798\n",
       "False    0.45202\n",
       "Name: any_organic_produce, dtype: float64"
      ]
     },
     "metadata": {},
     "output_type": "display_data"
    }
   ],
   "source": [
    "predictions = logisticRegr.predict(df[feature_cols])\n",
    "df['predicted_'+y_col] = predictions\n",
    "# display(df[['predicted_'+y_col,y_col]])\n",
    "\n",
    "print('predicted distribution:')\n",
    "display(df['predicted_'+y_col].value_counts())\n",
    "display(df['predicted_'+y_col].value_counts(normalize=True))\n",
    "print('actual distribution:')\n",
    "display(df[y_col].value_counts())\n",
    "display(df[y_col].value_counts(normalize=True))"
   ]
  },
  {
   "cell_type": "code",
   "execution_count": 29,
   "metadata": {},
   "outputs": [
    {
     "name": "stdout",
     "output_type": "stream",
     "text": [
      "training data:\n",
      "Mean accuracy:\n",
      "0.7477\n",
      "F1 score:\n",
      "0.7685745734727573\n",
      "ROC AUC score:\n",
      "0.7458314929328622\n",
      "Confusion matrix:\n",
      "[[13150  4962]\n",
      " [ 5130 16758]]\n",
      "ROC curve\n"
     ]
    },
    {
     "data": {
      "image/png": "[encoded data removed]",
      "text/plain": [
       "<Figure size 432x288 with 1 Axes>"
      ]
     },
     "metadata": {
      "needs_background": "light"
     },
     "output_type": "display_data"
    },
    {
     "name": "stdout",
     "output_type": "stream",
     "text": [
      "test data:\n",
      "Mean accuracy:\n",
      "0.7555\n",
      "F1 score:\n",
      "0.7776666363553696\n",
      "ROC AUC score:\n",
      "0.7531774782519449\n",
      "Confusion matrix:\n",
      "[[3279 1210]\n",
      " [1235 4276]]\n",
      "ROC curve\n"
     ]
    },
    {
     "data": {
      "image/png": "[encoded data removed]",
      "text/plain": [
       "<Figure size 432x288 with 1 Axes>"
      ]
     },
     "metadata": {
      "needs_background": "light"
     },
     "output_type": "display_data"
    }
   ],
   "source": [
    "# Validation of model using built-in methods\n",
    "def print_scores(X,y,model):\n",
    "    print('Mean accuracy:')\n",
    "    print(model.score(X,y))\n",
    "    print('F1 score:')\n",
    "    print(metrics.f1_score(y.astype(int),model.predict(X).astype(int)))\n",
    "    print('ROC AUC score:')\n",
    "    print(metrics.roc_auc_score(y.astype(int),model.predict(X).astype(int)))\n",
    "    print('Confusion matrix:')\n",
    "    print(metrics.confusion_matrix(y, model.predict(X)))\n",
    "    \n",
    "    print('ROC curve')\n",
    "    fpr, tpr, _ = metrics.roc_curve(y.astype(int),model.predict(X).astype(int))\n",
    "    plt.figure()\n",
    "    plt.plot([0, 1], [0, 1], 'k--')\n",
    "    plt.plot(fpr, tpr)\n",
    "    plt.xlabel('False positive rate')\n",
    "    plt.ylabel('True positive rate')\n",
    "    plt.title('ROC curve')\n",
    "    plt.show()\n",
    "    \n",
    "print('training data:')\n",
    "print_scores(X_train,y_train,logisticRegr)\n",
    "\n",
    "print('test data:')\n",
    "print_scores(X_test,y_test,logisticRegr)\n",
    "\n",
    "#                       Predicted not-y,0   Predicted y,1\n",
    "# True not-y,0\n",
    "# True y,1"
   ]
  }
 ],
 "metadata": {
  "kernelspec": {
   "display_name": "Python 3",
   "language": "python",
   "name": "python3"
  },
  "language_info": {
   "codemirror_mode": {
    "name": "ipython",
    "version": 3
   },
   "file_extension": ".py",
   "mimetype": "text/x-python",
   "name": "python",
   "nbconvert_exporter": "python",
   "pygments_lexer": "ipython3",
   "version": "3.7.6"
  }
 },
 "nbformat": 4,
 "nbformat_minor": 2
}

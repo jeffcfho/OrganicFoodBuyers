{
 "cells": [
  {
   "cell_type": "markdown",
   "metadata": {},
   "source": [
    "# How good is the collaborative filter model?\n",
    "\n",
    "**Plan:**\n",
    "1. For each users, check their most recent cart, and see how many of the top X recommended items are in it.\n",
    "2. Divide that number by X, to get a fraction by user. Then plot distn and average."
   ]
  },
  {
   "cell_type": "code",
   "execution_count": 1,
   "metadata": {},
   "outputs": [],
   "source": [
    "import pandas as pd\n",
    "import numpy as np\n",
    "import matplotlib.pyplot as plt\n",
    "import pickle"
   ]
  },
  {
   "cell_type": "markdown",
   "metadata": {},
   "source": [
    "## Get items in most recent cart and top recommendations"
   ]
  },
  {
   "cell_type": "code",
   "execution_count": 24,
   "metadata": {},
   "outputs": [],
   "source": [
    "# get list of top 20 recommended products by user\n",
    "rec_list = pd.read_csv('top20_products_recom.csv')\n",
    "\n",
    "# get each user's actual cart\n",
    "path = '/Users/Jeff/Documents/Insight/Data'\n",
    "order_products__train = pd.read_csv(path+'/instacart_2017_05_01/order_products__train.csv')\n",
    "orders = pd.read_csv(path+'/instacart_2017_05_01/orders.csv') #need order data to join user_id to order_products__train"
   ]
  },
  {
   "cell_type": "code",
   "execution_count": 26,
   "metadata": {},
   "outputs": [
    {
     "data": {
      "text/html": [
       "<div>\n",
       "<style scoped>\n",
       "    .dataframe tbody tr th:only-of-type {\n",
       "        vertical-align: middle;\n",
       "    }\n",
       "\n",
       "    .dataframe tbody tr th {\n",
       "        vertical-align: top;\n",
       "    }\n",
       "\n",
       "    .dataframe thead th {\n",
       "        text-align: right;\n",
       "    }\n",
       "</style>\n",
       "<table border=\"1\" class=\"dataframe\">\n",
       "  <thead>\n",
       "    <tr style=\"text-align: right;\">\n",
       "      <th></th>\n",
       "      <th>order_id</th>\n",
       "      <th>product_id</th>\n",
       "      <th>add_to_cart_order</th>\n",
       "      <th>reordered</th>\n",
       "      <th>user_id</th>\n",
       "    </tr>\n",
       "  </thead>\n",
       "  <tbody>\n",
       "    <tr>\n",
       "      <th>0</th>\n",
       "      <td>1</td>\n",
       "      <td>49302</td>\n",
       "      <td>1</td>\n",
       "      <td>1</td>\n",
       "      <td>112108</td>\n",
       "    </tr>\n",
       "    <tr>\n",
       "      <th>1</th>\n",
       "      <td>1</td>\n",
       "      <td>11109</td>\n",
       "      <td>2</td>\n",
       "      <td>1</td>\n",
       "      <td>112108</td>\n",
       "    </tr>\n",
       "    <tr>\n",
       "      <th>2</th>\n",
       "      <td>1</td>\n",
       "      <td>10246</td>\n",
       "      <td>3</td>\n",
       "      <td>0</td>\n",
       "      <td>112108</td>\n",
       "    </tr>\n",
       "    <tr>\n",
       "      <th>3</th>\n",
       "      <td>1</td>\n",
       "      <td>49683</td>\n",
       "      <td>4</td>\n",
       "      <td>0</td>\n",
       "      <td>112108</td>\n",
       "    </tr>\n",
       "    <tr>\n",
       "      <th>4</th>\n",
       "      <td>1</td>\n",
       "      <td>43633</td>\n",
       "      <td>5</td>\n",
       "      <td>1</td>\n",
       "      <td>112108</td>\n",
       "    </tr>\n",
       "  </tbody>\n",
       "</table>\n",
       "</div>"
      ],
      "text/plain": [
       "   order_id  product_id  add_to_cart_order  reordered  user_id\n",
       "0         1       49302                  1          1   112108\n",
       "1         1       11109                  2          1   112108\n",
       "2         1       10246                  3          0   112108\n",
       "3         1       49683                  4          0   112108\n",
       "4         1       43633                  5          1   112108"
      ]
     },
     "metadata": {},
     "output_type": "display_data"
    },
    {
     "data": {
      "text/html": [
       "<div>\n",
       "<style scoped>\n",
       "    .dataframe tbody tr th:only-of-type {\n",
       "        vertical-align: middle;\n",
       "    }\n",
       "\n",
       "    .dataframe tbody tr th {\n",
       "        vertical-align: top;\n",
       "    }\n",
       "\n",
       "    .dataframe thead th {\n",
       "        text-align: right;\n",
       "    }\n",
       "</style>\n",
       "<table border=\"1\" class=\"dataframe\">\n",
       "  <thead>\n",
       "    <tr style=\"text-align: right;\">\n",
       "      <th></th>\n",
       "      <th>order_id</th>\n",
       "      <th>user_id</th>\n",
       "      <th>eval_set</th>\n",
       "      <th>order_number</th>\n",
       "      <th>order_dow</th>\n",
       "      <th>order_hour_of_day</th>\n",
       "      <th>days_since_prior_order</th>\n",
       "    </tr>\n",
       "  </thead>\n",
       "  <tbody>\n",
       "    <tr>\n",
       "      <th>1868044</th>\n",
       "      <td>1</td>\n",
       "      <td>112108</td>\n",
       "      <td>train</td>\n",
       "      <td>4</td>\n",
       "      <td>4</td>\n",
       "      <td>10</td>\n",
       "      <td>9.0</td>\n",
       "    </tr>\n",
       "  </tbody>\n",
       "</table>\n",
       "</div>"
      ],
      "text/plain": [
       "         order_id  user_id eval_set  order_number  order_dow  \\\n",
       "1868044         1   112108    train             4          4   \n",
       "\n",
       "         order_hour_of_day  days_since_prior_order  \n",
       "1868044                 10                     9.0  "
      ]
     },
     "execution_count": 26,
     "metadata": {},
     "output_type": "execute_result"
    }
   ],
   "source": [
    "# Join user_id to order_id\n",
    "order_products__train = order_products__train.merge(orders[['order_id','user_id']],on='order_id')\n",
    "display(order_products__train.head())\n",
    "orders.loc[orders['order_id']==1] #check that join works (i.e., this should be associated with user_id 112108)"
   ]
  },
  {
   "cell_type": "code",
   "execution_count": 19,
   "metadata": {},
   "outputs": [
    {
     "data": {
      "text/html": [
       "<div>\n",
       "<style scoped>\n",
       "    .dataframe tbody tr th:only-of-type {\n",
       "        vertical-align: middle;\n",
       "    }\n",
       "\n",
       "    .dataframe tbody tr th {\n",
       "        vertical-align: top;\n",
       "    }\n",
       "\n",
       "    .dataframe thead th {\n",
       "        text-align: right;\n",
       "    }\n",
       "</style>\n",
       "<table border=\"1\" class=\"dataframe\">\n",
       "  <thead>\n",
       "    <tr style=\"text-align: right;\">\n",
       "      <th></th>\n",
       "      <th>product_id</th>\n",
       "      <th>product_name</th>\n",
       "      <th>organic</th>\n",
       "      <th>freq_rank</th>\n",
       "      <th>user_id</th>\n",
       "      <th>rec_rank</th>\n",
       "    </tr>\n",
       "  </thead>\n",
       "  <tbody>\n",
       "    <tr>\n",
       "      <th>0</th>\n",
       "      <td>13176</td>\n",
       "      <td>Bag of Organic Bananas</td>\n",
       "      <td>1</td>\n",
       "      <td>2</td>\n",
       "      <td>1</td>\n",
       "      <td>1</td>\n",
       "    </tr>\n",
       "    <tr>\n",
       "      <th>1</th>\n",
       "      <td>21137</td>\n",
       "      <td>Organic Strawberries</td>\n",
       "      <td>1</td>\n",
       "      <td>3</td>\n",
       "      <td>1</td>\n",
       "      <td>2</td>\n",
       "    </tr>\n",
       "    <tr>\n",
       "      <th>2</th>\n",
       "      <td>24852</td>\n",
       "      <td>Banana</td>\n",
       "      <td>0</td>\n",
       "      <td>1</td>\n",
       "      <td>1</td>\n",
       "      <td>3</td>\n",
       "    </tr>\n",
       "    <tr>\n",
       "      <th>3</th>\n",
       "      <td>21903</td>\n",
       "      <td>Organic Baby Spinach</td>\n",
       "      <td>1</td>\n",
       "      <td>4</td>\n",
       "      <td>1</td>\n",
       "      <td>4</td>\n",
       "    </tr>\n",
       "    <tr>\n",
       "      <th>4</th>\n",
       "      <td>39275</td>\n",
       "      <td>Organic Blueberries</td>\n",
       "      <td>1</td>\n",
       "      <td>11</td>\n",
       "      <td>1</td>\n",
       "      <td>5</td>\n",
       "    </tr>\n",
       "  </tbody>\n",
       "</table>\n",
       "</div>"
      ],
      "text/plain": [
       "   product_id            product_name  organic  freq_rank  user_id  rec_rank\n",
       "0       13176  Bag of Organic Bananas        1          2        1         1\n",
       "1       21137    Organic Strawberries        1          3        1         2\n",
       "2       24852                  Banana        0          1        1         3\n",
       "3       21903    Organic Baby Spinach        1          4        1         4\n",
       "4       39275     Organic Blueberries        1         11        1         5"
      ]
     },
     "execution_count": 19,
     "metadata": {},
     "output_type": "execute_result"
    }
   ],
   "source": [
    "rec_list.drop(['Unnamed: 0'],axis=1,inplace=True)\n",
    "rec_list.head()"
   ]
  },
  {
   "cell_type": "code",
   "execution_count": 9,
   "metadata": {},
   "outputs": [
    {
     "data": {
      "text/plain": [
       "50000"
      ]
     },
     "execution_count": 9,
     "metadata": {},
     "output_type": "execute_result"
    }
   ],
   "source": [
    "#How many users will we validate on?\n",
    "len(rec_list['user_id'].unique())"
   ]
  },
  {
   "cell_type": "markdown",
   "metadata": {},
   "source": [
    "### Filter all users to those we have recommendations for:"
   ]
  },
  {
   "cell_type": "code",
   "execution_count": 20,
   "metadata": {},
   "outputs": [
    {
     "name": "stdout",
     "output_type": "stream",
     "text": [
      "1384617\n",
      "528806\n"
     ]
    }
   ],
   "source": [
    "%%time\n",
    "\n",
    "# get unique user_ids to filter order_products__train:\n",
    "unique_user_ids = rec_list['user_id'].unique()\n",
    "\n",
    "# new dataframe only contains products/orders from users with recommendations\n",
    "print(len(order_products__train))\n",
    "order_products__train = order_products__train.loc[\n",
    "    order_products__train['user_id'].map(lambda x: x in unique_user_ids)]\n",
    "print(len(order_products__train))"
   ]
  },
  {
   "cell_type": "code",
   "execution_count": 21,
   "metadata": {},
   "outputs": [
    {
     "data": {
      "text/plain": [
       "50000"
      ]
     },
     "execution_count": 21,
     "metadata": {},
     "output_type": "execute_result"
    }
   ],
   "source": [
    "len(order_products__train['user_id'].unique()) #confirm same number of users as we have recommendations for."
   ]
  },
  {
   "cell_type": "markdown",
   "metadata": {},
   "source": [
    "## Creating the dataframe to check whether or not recommended items were actually bought\n",
    "### Group order_products__train by user_id, and store each list of products as a dictionary with \"user_id\" as key."
   ]
  },
  {
   "cell_type": "code",
   "execution_count": 25,
   "metadata": {},
   "outputs": [
    {
     "data": {
      "text/plain": [
       "'Ordered products for User 1: '"
      ]
     },
     "metadata": {},
     "output_type": "display_data"
    },
    {
     "data": {
      "text/plain": [
       "[196, 25133, 38928, 26405, 39657, 10258, 13032, 26088, 27845, 49235, 46149]"
      ]
     },
     "metadata": {},
     "output_type": "display_data"
    },
    {
     "name": "stdout",
     "output_type": "stream",
     "text": [
      "CPU times: user 5.58 s, sys: 54.7 ms, total: 5.63 s\n",
      "Wall time: 5.66 s\n"
     ]
    },
    {
     "data": {
      "text/html": [
       "<div>\n",
       "<style scoped>\n",
       "    .dataframe tbody tr th:only-of-type {\n",
       "        vertical-align: middle;\n",
       "    }\n",
       "\n",
       "    .dataframe tbody tr th {\n",
       "        vertical-align: top;\n",
       "    }\n",
       "\n",
       "    .dataframe thead th {\n",
       "        text-align: right;\n",
       "    }\n",
       "</style>\n",
       "<table border=\"1\" class=\"dataframe\">\n",
       "  <thead>\n",
       "    <tr style=\"text-align: right;\">\n",
       "      <th></th>\n",
       "      <th>order_id</th>\n",
       "      <th>product_id</th>\n",
       "      <th>add_to_cart_order</th>\n",
       "      <th>reordered</th>\n",
       "      <th>user_id</th>\n",
       "    </tr>\n",
       "  </thead>\n",
       "  <tbody>\n",
       "    <tr>\n",
       "      <th>484420</th>\n",
       "      <td>1187899</td>\n",
       "      <td>196</td>\n",
       "      <td>1</td>\n",
       "      <td>1</td>\n",
       "      <td>1</td>\n",
       "    </tr>\n",
       "    <tr>\n",
       "      <th>484421</th>\n",
       "      <td>1187899</td>\n",
       "      <td>25133</td>\n",
       "      <td>2</td>\n",
       "      <td>1</td>\n",
       "      <td>1</td>\n",
       "    </tr>\n",
       "    <tr>\n",
       "      <th>484422</th>\n",
       "      <td>1187899</td>\n",
       "      <td>38928</td>\n",
       "      <td>3</td>\n",
       "      <td>1</td>\n",
       "      <td>1</td>\n",
       "    </tr>\n",
       "    <tr>\n",
       "      <th>484423</th>\n",
       "      <td>1187899</td>\n",
       "      <td>26405</td>\n",
       "      <td>4</td>\n",
       "      <td>1</td>\n",
       "      <td>1</td>\n",
       "    </tr>\n",
       "    <tr>\n",
       "      <th>484424</th>\n",
       "      <td>1187899</td>\n",
       "      <td>39657</td>\n",
       "      <td>5</td>\n",
       "      <td>1</td>\n",
       "      <td>1</td>\n",
       "    </tr>\n",
       "    <tr>\n",
       "      <th>484425</th>\n",
       "      <td>1187899</td>\n",
       "      <td>10258</td>\n",
       "      <td>6</td>\n",
       "      <td>1</td>\n",
       "      <td>1</td>\n",
       "    </tr>\n",
       "    <tr>\n",
       "      <th>484426</th>\n",
       "      <td>1187899</td>\n",
       "      <td>13032</td>\n",
       "      <td>7</td>\n",
       "      <td>1</td>\n",
       "      <td>1</td>\n",
       "    </tr>\n",
       "    <tr>\n",
       "      <th>484427</th>\n",
       "      <td>1187899</td>\n",
       "      <td>26088</td>\n",
       "      <td>8</td>\n",
       "      <td>1</td>\n",
       "      <td>1</td>\n",
       "    </tr>\n",
       "    <tr>\n",
       "      <th>484428</th>\n",
       "      <td>1187899</td>\n",
       "      <td>27845</td>\n",
       "      <td>9</td>\n",
       "      <td>0</td>\n",
       "      <td>1</td>\n",
       "    </tr>\n",
       "    <tr>\n",
       "      <th>484429</th>\n",
       "      <td>1187899</td>\n",
       "      <td>49235</td>\n",
       "      <td>10</td>\n",
       "      <td>1</td>\n",
       "      <td>1</td>\n",
       "    </tr>\n",
       "    <tr>\n",
       "      <th>484430</th>\n",
       "      <td>1187899</td>\n",
       "      <td>46149</td>\n",
       "      <td>11</td>\n",
       "      <td>1</td>\n",
       "      <td>1</td>\n",
       "    </tr>\n",
       "  </tbody>\n",
       "</table>\n",
       "</div>"
      ],
      "text/plain": [
       "        order_id  product_id  add_to_cart_order  reordered  user_id\n",
       "484420   1187899         196                  1          1        1\n",
       "484421   1187899       25133                  2          1        1\n",
       "484422   1187899       38928                  3          1        1\n",
       "484423   1187899       26405                  4          1        1\n",
       "484424   1187899       39657                  5          1        1\n",
       "484425   1187899       10258                  6          1        1\n",
       "484426   1187899       13032                  7          1        1\n",
       "484427   1187899       26088                  8          1        1\n",
       "484428   1187899       27845                  9          0        1\n",
       "484429   1187899       49235                 10          1        1\n",
       "484430   1187899       46149                 11          1        1"
      ]
     },
     "execution_count": 25,
     "metadata": {},
     "output_type": "execute_result"
    }
   ],
   "source": [
    "%%time\n",
    "\n",
    "prods_dict = dict(order_products__train.groupby('user_id')['product_id'].apply(list))\n",
    "print('Ordered products for User 1: ',prods_dict[1])\n",
    "order_products__train.loc[order_products__train['user_id']==1] #check dictionary result is as expected"
   ]
  },
  {
   "cell_type": "markdown",
   "metadata": {},
   "source": [
    "### Adding a column for each recommended item representing whether item was purchased by user in next order "
   ]
  },
  {
   "cell_type": "code",
   "execution_count": 29,
   "metadata": {},
   "outputs": [
    {
     "data": {
      "text/plain": [
       "Unnamed: 0                           1\n",
       "product_id                       13176\n",
       "product_name    Bag of Organic Bananas\n",
       "organic                              1\n",
       "freq_rank                            2\n",
       "user_id                              1\n",
       "rec_rank                             1\n",
       "Name: 0, dtype: object"
      ]
     },
     "metadata": {},
     "output_type": "display_data"
    },
    {
     "data": {
      "text/plain": [
       "[196, 25133, 38928, 26405, 39657, 10258, 13032, 26088, 27845, 49235, 46149]"
      ]
     },
     "metadata": {},
     "output_type": "display_data"
    },
    {
     "data": {
      "text/plain": [
       "False"
      ]
     },
     "metadata": {},
     "output_type": "display_data"
    },
    {
     "data": {
      "text/html": [
       "<div>\n",
       "<style scoped>\n",
       "    .dataframe tbody tr th:only-of-type {\n",
       "        vertical-align: middle;\n",
       "    }\n",
       "\n",
       "    .dataframe tbody tr th {\n",
       "        vertical-align: top;\n",
       "    }\n",
       "\n",
       "    .dataframe thead th {\n",
       "        text-align: right;\n",
       "    }\n",
       "</style>\n",
       "<table border=\"1\" class=\"dataframe\">\n",
       "  <thead>\n",
       "    <tr style=\"text-align: right;\">\n",
       "      <th></th>\n",
       "      <th>Unnamed: 0</th>\n",
       "      <th>product_id</th>\n",
       "      <th>product_name</th>\n",
       "      <th>organic</th>\n",
       "      <th>freq_rank</th>\n",
       "      <th>user_id</th>\n",
       "      <th>rec_rank</th>\n",
       "      <th>actually_in_user_order</th>\n",
       "    </tr>\n",
       "  </thead>\n",
       "  <tbody>\n",
       "    <tr>\n",
       "      <th>0</th>\n",
       "      <td>1</td>\n",
       "      <td>13176</td>\n",
       "      <td>Bag of Organic Bananas</td>\n",
       "      <td>1</td>\n",
       "      <td>2</td>\n",
       "      <td>1</td>\n",
       "      <td>1</td>\n",
       "      <td>False</td>\n",
       "    </tr>\n",
       "    <tr>\n",
       "      <th>1</th>\n",
       "      <td>2</td>\n",
       "      <td>21137</td>\n",
       "      <td>Organic Strawberries</td>\n",
       "      <td>1</td>\n",
       "      <td>3</td>\n",
       "      <td>1</td>\n",
       "      <td>2</td>\n",
       "      <td>False</td>\n",
       "    </tr>\n",
       "    <tr>\n",
       "      <th>2</th>\n",
       "      <td>0</td>\n",
       "      <td>24852</td>\n",
       "      <td>Banana</td>\n",
       "      <td>0</td>\n",
       "      <td>1</td>\n",
       "      <td>1</td>\n",
       "      <td>3</td>\n",
       "      <td>False</td>\n",
       "    </tr>\n",
       "    <tr>\n",
       "      <th>3</th>\n",
       "      <td>3</td>\n",
       "      <td>21903</td>\n",
       "      <td>Organic Baby Spinach</td>\n",
       "      <td>1</td>\n",
       "      <td>4</td>\n",
       "      <td>1</td>\n",
       "      <td>4</td>\n",
       "      <td>False</td>\n",
       "    </tr>\n",
       "    <tr>\n",
       "      <th>4</th>\n",
       "      <td>10</td>\n",
       "      <td>39275</td>\n",
       "      <td>Organic Blueberries</td>\n",
       "      <td>1</td>\n",
       "      <td>11</td>\n",
       "      <td>1</td>\n",
       "      <td>5</td>\n",
       "      <td>False</td>\n",
       "    </tr>\n",
       "    <tr>\n",
       "      <th>...</th>\n",
       "      <td>...</td>\n",
       "      <td>...</td>\n",
       "      <td>...</td>\n",
       "      <td>...</td>\n",
       "      <td>...</td>\n",
       "      <td>...</td>\n",
       "      <td>...</td>\n",
       "      <td>...</td>\n",
       "    </tr>\n",
       "    <tr>\n",
       "      <th>999995</th>\n",
       "      <td>24</td>\n",
       "      <td>5876</td>\n",
       "      <td>Organic Lemon</td>\n",
       "      <td>1</td>\n",
       "      <td>25</td>\n",
       "      <td>78707</td>\n",
       "      <td>16</td>\n",
       "      <td>False</td>\n",
       "    </tr>\n",
       "    <tr>\n",
       "      <th>999996</th>\n",
       "      <td>7</td>\n",
       "      <td>16797</td>\n",
       "      <td>Strawberries</td>\n",
       "      <td>0</td>\n",
       "      <td>8</td>\n",
       "      <td>78707</td>\n",
       "      <td>17</td>\n",
       "      <td>True</td>\n",
       "    </tr>\n",
       "    <tr>\n",
       "      <th>999997</th>\n",
       "      <td>20</td>\n",
       "      <td>4605</td>\n",
       "      <td>Yellow Onions</td>\n",
       "      <td>0</td>\n",
       "      <td>21</td>\n",
       "      <td>78707</td>\n",
       "      <td>18</td>\n",
       "      <td>False</td>\n",
       "    </tr>\n",
       "    <tr>\n",
       "      <th>999998</th>\n",
       "      <td>19</td>\n",
       "      <td>8518</td>\n",
       "      <td>Organic Red Onion</td>\n",
       "      <td>1</td>\n",
       "      <td>20</td>\n",
       "      <td>78707</td>\n",
       "      <td>19</td>\n",
       "      <td>False</td>\n",
       "    </tr>\n",
       "    <tr>\n",
       "      <th>999999</th>\n",
       "      <td>23</td>\n",
       "      <td>31717</td>\n",
       "      <td>Organic Cilantro</td>\n",
       "      <td>1</td>\n",
       "      <td>24</td>\n",
       "      <td>78707</td>\n",
       "      <td>20</td>\n",
       "      <td>False</td>\n",
       "    </tr>\n",
       "  </tbody>\n",
       "</table>\n",
       "<p>1000000 rows × 8 columns</p>\n",
       "</div>"
      ],
      "text/plain": [
       "        Unnamed: 0  product_id            product_name  organic  freq_rank  \\\n",
       "0                1       13176  Bag of Organic Bananas        1          2   \n",
       "1                2       21137    Organic Strawberries        1          3   \n",
       "2                0       24852                  Banana        0          1   \n",
       "3                3       21903    Organic Baby Spinach        1          4   \n",
       "4               10       39275     Organic Blueberries        1         11   \n",
       "...            ...         ...                     ...      ...        ...   \n",
       "999995          24        5876           Organic Lemon        1         25   \n",
       "999996           7       16797            Strawberries        0          8   \n",
       "999997          20        4605           Yellow Onions        0         21   \n",
       "999998          19        8518       Organic Red Onion        1         20   \n",
       "999999          23       31717        Organic Cilantro        1         24   \n",
       "\n",
       "        user_id  rec_rank  actually_in_user_order  \n",
       "0             1         1                   False  \n",
       "1             1         2                   False  \n",
       "2             1         3                   False  \n",
       "3             1         4                   False  \n",
       "4             1         5                   False  \n",
       "...         ...       ...                     ...  \n",
       "999995    78707        16                   False  \n",
       "999996    78707        17                    True  \n",
       "999997    78707        18                   False  \n",
       "999998    78707        19                   False  \n",
       "999999    78707        20                   False  \n",
       "\n",
       "[1000000 rows x 8 columns]"
      ]
     },
     "metadata": {},
     "output_type": "display_data"
    },
    {
     "name": "stdout",
     "output_type": "stream",
     "text": [
      "CPU times: user 22.6 s, sys: 255 ms, total: 22.8 s\n",
      "Wall time: 23.3 s\n"
     ]
    }
   ],
   "source": [
    "%%time\n",
    "\n",
    "# Then, map function over all recommended items (slow, but we only need once).\n",
    "def rec_prod_ordered(rec_row):\n",
    "    # For each of the recommended items, check if the id exists in the list of products stored in the dictionary.\n",
    "    return rec_row['product_id'] in prods_dict[rec_row['user_id']]\n",
    "\n",
    "# Test function on one row first:\n",
    "display(rec_list.iloc[0])\n",
    "display(prods_dict[1])\n",
    "display(rec_prod_ordered(rec_list.iloc[0])) # User 1 didn't buy Organic bananas, so returned false as expected.\n",
    "\n",
    "# Map function over all recommended items:\n",
    "rec_list['actually_in_user_order'] = rec_list.apply(rec_prod_ordered,axis=1)\n",
    "display(rec_list)"
   ]
  },
  {
   "cell_type": "markdown",
   "metadata": {},
   "source": [
    "### How many of the top recommendations were actually in orders?"
   ]
  },
  {
   "cell_type": "code",
   "execution_count": 30,
   "metadata": {},
   "outputs": [
    {
     "data": {
      "text/plain": [
       "False    0.944749\n",
       "True     0.055251\n",
       "Name: actually_in_user_order, dtype: float64"
      ]
     },
     "execution_count": 30,
     "metadata": {},
     "output_type": "execute_result"
    }
   ],
   "source": [
    "rec_list['actually_in_user_order'].value_counts(normalize=True) "
   ]
  },
  {
   "cell_type": "markdown",
   "metadata": {},
   "source": [
    "Only 5% of top 20 recommendations actually purchased by users."
   ]
  },
  {
   "cell_type": "code",
   "execution_count": 31,
   "metadata": {},
   "outputs": [],
   "source": [
    "# export the dataframe so don't have to do it again.\n",
    "rec_list.to_csv('top20_products_recom_validation.csv')"
   ]
  },
  {
   "cell_type": "markdown",
   "metadata": {},
   "source": [
    "## Calculating precision at k\n",
    "\n",
    "i.e., how many of the top k recommendations were actually purchased"
   ]
  },
  {
   "cell_type": "code",
   "execution_count": 3,
   "metadata": {},
   "outputs": [],
   "source": [
    "# if re-running this notebook, load the DF from CSV\n",
    "rec_list = pd.read_csv('top20_products_recom_validation.csv')\n",
    "rec_list.drop(['Unnamed: 0'],axis=1,inplace=True)"
   ]
  },
  {
   "cell_type": "code",
   "execution_count": 41,
   "metadata": {
    "scrolled": false
   },
   "outputs": [
    {
     "name": "stdout",
     "output_type": "stream",
     "text": [
      "[0.132, 0.11651, 0.10897333333333332, 0.10374, 0.098012, 0.09274666666666666, 0.0877342857142857, 0.0836275, 0.07964222222222223, 0.07612800000000002, 0.07304, 0.07014666666666665, 0.06764, 0.0653042857142857, 0.06316533333333332, 0.061245, 0.05958705882352942, 0.05799333333333334, 0.05659684210526315, 0.055251]\n"
     ]
    }
   ],
   "source": [
    "# Calculating precision at k for multiple ks\n",
    "def precision_at_k(k):\n",
    "    all_hits = rec_list.loc[rec_list['rec_rank']<=k][['user_id','actually_in_user_order']].groupby('user_id').sum()\n",
    "    all_patks = all_hits.values/k\n",
    "    return all_patks, all_patks.mean()\n",
    "\n",
    "patk_by_k = []\n",
    "for sample_k in np.arange(1,21):\n",
    "    patk_all, mean_patk = precision_at_k(sample_k)\n",
    "    patk_by_k.append(mean_patk)\n",
    "    \n",
    "print(patk_by_k)"
   ]
  },
  {
   "cell_type": "code",
   "execution_count": 70,
   "metadata": {},
   "outputs": [
    {
     "data": {
      "image/png": "[encoded data removed]",
      "text/plain": [
       "<Figure size 432x288 with 1 Axes>"
      ]
     },
     "metadata": {
      "needs_background": "light"
     },
     "output_type": "display_data"
    }
   ],
   "source": [
    "plt.figure()\n",
    "plt.bar(np.arange(1,21),patk_by_k)\n",
    "plt.xticks(np.arange(2,21,2))\n",
    "plt.xlabel('k')\n",
    "plt.ylabel('Precision at k')\n",
    "plt.show()"
   ]
  },
  {
   "cell_type": "markdown",
   "metadata": {},
   "source": [
    "What is the distribution of items in the top 10 recommendations purchased by user?"
   ]
  },
  {
   "cell_type": "code",
   "execution_count": 42,
   "metadata": {},
   "outputs": [
    {
     "name": "stdout",
     "output_type": "stream",
     "text": [
      "10\n"
     ]
    },
    {
     "data": {
      "image/png": "[encoded data removed]",
      "text/plain": [
       "<Figure size 432x288 with 1 Axes>"
      ]
     },
     "metadata": {
      "needs_background": "light"
     },
     "output_type": "display_data"
    },
    {
     "name": "stdout",
     "output_type": "stream",
     "text": [
      "0.07612800000000002\n"
     ]
    },
    {
     "data": {
      "text/plain": [
       "0.10040581465233975"
      ]
     },
     "execution_count": 42,
     "metadata": {},
     "output_type": "execute_result"
    }
   ],
   "source": [
    "sample_k = 10\n",
    "print(sample_k)\n",
    "patk_all, mean_patk = precision_at_k(sample_k)\n",
    "plt.hist(patk_all,bins=np.arange(-0.05,0.85,0.1))\n",
    "plt.xlabel('Precision at 10')\n",
    "plt.ylabel('Number of users')\n",
    "plt.show()\n",
    "print(mean_patk)\n",
    "np.std(patk_all)"
   ]
  },
  {
   "cell_type": "markdown",
   "metadata": {},
   "source": [
    "## Calculating at least one relevant recommendation at k\n",
    "\n",
    "i.e., how many users bought *at least one* of the top k recommended items"
   ]
  },
  {
   "cell_type": "code",
   "execution_count": 7,
   "metadata": {},
   "outputs": [
    {
     "name": "stdout",
     "output_type": "stream",
     "text": [
      "[0.132, 0.21496, 0.28222, 0.33614, 0.37408, 0.40416, 0.42638, 0.44566, 0.46152, 0.47488, 0.4864, 0.49652, 0.50602, 0.51488, 0.5226, 0.52994, 0.5372, 0.54348, 0.55034, 0.55634]\n"
     ]
    }
   ],
   "source": [
    "# Calculating the average at k for multiple ks\n",
    "def atleastonerelevant_at_k(k):\n",
    "    all_atoratks = rec_list.loc[rec_list['rec_rank']<=k][['user_id','actually_in_user_order']].groupby('user_id').max()\n",
    "    return all_atoratks.values, all_atoratks.values.mean()\n",
    "\n",
    "atoratks_by_k = []\n",
    "for sample_k in np.arange(1,21):\n",
    "    atoratk_all, mean_atoratk = atleastonerelevant_at_k(sample_k)\n",
    "    atoratks_by_k.append(mean_atoratk)\n",
    "    \n",
    "print(atoratks_by_k)"
   ]
  },
  {
   "cell_type": "code",
   "execution_count": 8,
   "metadata": {},
   "outputs": [
    {
     "data": {
      "image/png": "[encoded data removed]",
      "text/plain": [
       "<Figure size 432x288 with 1 Axes>"
      ]
     },
     "metadata": {
      "needs_background": "light"
     },
     "output_type": "display_data"
    }
   ],
   "source": [
    "plt.figure()\n",
    "plt.bar(np.arange(1,21),atoratks_by_k)\n",
    "plt.xticks(np.arange(2,21,2))\n",
    "plt.xlabel('k')\n",
    "plt.ylabel('At least one relevant recommendation at k')\n",
    "plt.show()"
   ]
  },
  {
   "cell_type": "markdown",
   "metadata": {},
   "source": [
    "# What about just recommending the most popular 20 items over and over?\n",
    "\n",
    "I want to see how good the collaborative filter does versus just recommending the top 20 items by frequency"
   ]
  },
  {
   "cell_type": "code",
   "execution_count": 9,
   "metadata": {},
   "outputs": [
    {
     "data": {
      "text/html": [
       "<div>\n",
       "<style scoped>\n",
       "    .dataframe tbody tr th:only-of-type {\n",
       "        vertical-align: middle;\n",
       "    }\n",
       "\n",
       "    .dataframe tbody tr th {\n",
       "        vertical-align: top;\n",
       "    }\n",
       "\n",
       "    .dataframe thead th {\n",
       "        text-align: right;\n",
       "    }\n",
       "</style>\n",
       "<table border=\"1\" class=\"dataframe\">\n",
       "  <thead>\n",
       "    <tr style=\"text-align: right;\">\n",
       "      <th></th>\n",
       "      <th>product_id</th>\n",
       "      <th>frequency</th>\n",
       "      <th>product_name</th>\n",
       "      <th>organic</th>\n",
       "    </tr>\n",
       "  </thead>\n",
       "  <tbody>\n",
       "    <tr>\n",
       "      <th>0</th>\n",
       "      <td>24852</td>\n",
       "      <td>18726</td>\n",
       "      <td>Banana</td>\n",
       "      <td>0</td>\n",
       "    </tr>\n",
       "    <tr>\n",
       "      <th>1</th>\n",
       "      <td>13176</td>\n",
       "      <td>15480</td>\n",
       "      <td>Bag of Organic Bananas</td>\n",
       "      <td>1</td>\n",
       "    </tr>\n",
       "    <tr>\n",
       "      <th>2</th>\n",
       "      <td>21137</td>\n",
       "      <td>10894</td>\n",
       "      <td>Organic Strawberries</td>\n",
       "      <td>1</td>\n",
       "    </tr>\n",
       "    <tr>\n",
       "      <th>3</th>\n",
       "      <td>21903</td>\n",
       "      <td>9784</td>\n",
       "      <td>Organic Baby Spinach</td>\n",
       "      <td>1</td>\n",
       "    </tr>\n",
       "    <tr>\n",
       "      <th>4</th>\n",
       "      <td>47626</td>\n",
       "      <td>8135</td>\n",
       "      <td>Large Lemon</td>\n",
       "      <td>0</td>\n",
       "    </tr>\n",
       "    <tr>\n",
       "      <th>5</th>\n",
       "      <td>47766</td>\n",
       "      <td>7409</td>\n",
       "      <td>Organic Avocado</td>\n",
       "      <td>1</td>\n",
       "    </tr>\n",
       "    <tr>\n",
       "      <th>6</th>\n",
       "      <td>47209</td>\n",
       "      <td>7293</td>\n",
       "      <td>Organic Hass Avocado</td>\n",
       "      <td>1</td>\n",
       "    </tr>\n",
       "    <tr>\n",
       "      <th>7</th>\n",
       "      <td>16797</td>\n",
       "      <td>6494</td>\n",
       "      <td>Strawberries</td>\n",
       "      <td>0</td>\n",
       "    </tr>\n",
       "    <tr>\n",
       "      <th>8</th>\n",
       "      <td>26209</td>\n",
       "      <td>6033</td>\n",
       "      <td>Limes</td>\n",
       "      <td>0</td>\n",
       "    </tr>\n",
       "    <tr>\n",
       "      <th>9</th>\n",
       "      <td>27966</td>\n",
       "      <td>5546</td>\n",
       "      <td>Organic Raspberries</td>\n",
       "      <td>1</td>\n",
       "    </tr>\n",
       "    <tr>\n",
       "      <th>10</th>\n",
       "      <td>39275</td>\n",
       "      <td>4966</td>\n",
       "      <td>Organic Blueberries</td>\n",
       "      <td>1</td>\n",
       "    </tr>\n",
       "    <tr>\n",
       "      <th>11</th>\n",
       "      <td>27845</td>\n",
       "      <td>4908</td>\n",
       "      <td>Organic Whole Milk</td>\n",
       "      <td>1</td>\n",
       "    </tr>\n",
       "    <tr>\n",
       "      <th>12</th>\n",
       "      <td>30391</td>\n",
       "      <td>4613</td>\n",
       "      <td>Organic Cucumber</td>\n",
       "      <td>1</td>\n",
       "    </tr>\n",
       "    <tr>\n",
       "      <th>13</th>\n",
       "      <td>45007</td>\n",
       "      <td>4589</td>\n",
       "      <td>Organic Zucchini</td>\n",
       "      <td>1</td>\n",
       "    </tr>\n",
       "    <tr>\n",
       "      <th>14</th>\n",
       "      <td>22935</td>\n",
       "      <td>4290</td>\n",
       "      <td>Organic Yellow Onion</td>\n",
       "      <td>1</td>\n",
       "    </tr>\n",
       "    <tr>\n",
       "      <th>15</th>\n",
       "      <td>24964</td>\n",
       "      <td>4158</td>\n",
       "      <td>Organic Garlic</td>\n",
       "      <td>1</td>\n",
       "    </tr>\n",
       "    <tr>\n",
       "      <th>16</th>\n",
       "      <td>4920</td>\n",
       "      <td>4059</td>\n",
       "      <td>Seedless Red Grapes</td>\n",
       "      <td>0</td>\n",
       "    </tr>\n",
       "    <tr>\n",
       "      <th>17</th>\n",
       "      <td>46979</td>\n",
       "      <td>3868</td>\n",
       "      <td>Asparagus</td>\n",
       "      <td>0</td>\n",
       "    </tr>\n",
       "    <tr>\n",
       "      <th>18</th>\n",
       "      <td>40706</td>\n",
       "      <td>3823</td>\n",
       "      <td>Organic Grape Tomatoes</td>\n",
       "      <td>1</td>\n",
       "    </tr>\n",
       "    <tr>\n",
       "      <th>19</th>\n",
       "      <td>8518</td>\n",
       "      <td>3818</td>\n",
       "      <td>Organic Red Onion</td>\n",
       "      <td>1</td>\n",
       "    </tr>\n",
       "  </tbody>\n",
       "</table>\n",
       "</div>"
      ],
      "text/plain": [
       "    product_id  frequency            product_name  organic\n",
       "0        24852      18726                  Banana        0\n",
       "1        13176      15480  Bag of Organic Bananas        1\n",
       "2        21137      10894    Organic Strawberries        1\n",
       "3        21903       9784    Organic Baby Spinach        1\n",
       "4        47626       8135             Large Lemon        0\n",
       "5        47766       7409         Organic Avocado        1\n",
       "6        47209       7293    Organic Hass Avocado        1\n",
       "7        16797       6494            Strawberries        0\n",
       "8        26209       6033                   Limes        0\n",
       "9        27966       5546     Organic Raspberries        1\n",
       "10       39275       4966     Organic Blueberries        1\n",
       "11       27845       4908      Organic Whole Milk        1\n",
       "12       30391       4613        Organic Cucumber        1\n",
       "13       45007       4589        Organic Zucchini        1\n",
       "14       22935       4290    Organic Yellow Onion        1\n",
       "15       24964       4158          Organic Garlic        1\n",
       "16        4920       4059     Seedless Red Grapes        0\n",
       "17       46979       3868               Asparagus        0\n",
       "18       40706       3823  Organic Grape Tomatoes        1\n",
       "19        8518       3818       Organic Red Onion        1"
      ]
     },
     "execution_count": 9,
     "metadata": {},
     "output_type": "execute_result"
    }
   ],
   "source": [
    "# re-create rec_list df with top 20 items by frequency.\n",
    "top200products = pd.read_csv('top200_products.csv')\n",
    "top200products.drop(['Unnamed: 0'],axis=1,inplace=True)\n",
    "top20products = top200products.head(20)\n",
    "top20products"
   ]
  },
  {
   "cell_type": "code",
   "execution_count": 27,
   "metadata": {},
   "outputs": [
    {
     "name": "stdout",
     "output_type": "stream",
     "text": [
      "Ordered products for User 1:  [196, 25133, 38928, 26405, 39657, 10258, 13032, 26088, 27845, 49235, 46149]\n"
     ]
    },
    {
     "data": {
      "text/html": [
       "<div>\n",
       "<style scoped>\n",
       "    .dataframe tbody tr th:only-of-type {\n",
       "        vertical-align: middle;\n",
       "    }\n",
       "\n",
       "    .dataframe tbody tr th {\n",
       "        vertical-align: top;\n",
       "    }\n",
       "\n",
       "    .dataframe thead th {\n",
       "        text-align: right;\n",
       "    }\n",
       "</style>\n",
       "<table border=\"1\" class=\"dataframe\">\n",
       "  <thead>\n",
       "    <tr style=\"text-align: right;\">\n",
       "      <th></th>\n",
       "      <th>order_id</th>\n",
       "      <th>product_id</th>\n",
       "      <th>add_to_cart_order</th>\n",
       "      <th>reordered</th>\n",
       "      <th>user_id</th>\n",
       "    </tr>\n",
       "  </thead>\n",
       "  <tbody>\n",
       "    <tr>\n",
       "      <th>484420</th>\n",
       "      <td>1187899</td>\n",
       "      <td>196</td>\n",
       "      <td>1</td>\n",
       "      <td>1</td>\n",
       "      <td>1</td>\n",
       "    </tr>\n",
       "    <tr>\n",
       "      <th>484421</th>\n",
       "      <td>1187899</td>\n",
       "      <td>25133</td>\n",
       "      <td>2</td>\n",
       "      <td>1</td>\n",
       "      <td>1</td>\n",
       "    </tr>\n",
       "    <tr>\n",
       "      <th>484422</th>\n",
       "      <td>1187899</td>\n",
       "      <td>38928</td>\n",
       "      <td>3</td>\n",
       "      <td>1</td>\n",
       "      <td>1</td>\n",
       "    </tr>\n",
       "    <tr>\n",
       "      <th>484423</th>\n",
       "      <td>1187899</td>\n",
       "      <td>26405</td>\n",
       "      <td>4</td>\n",
       "      <td>1</td>\n",
       "      <td>1</td>\n",
       "    </tr>\n",
       "    <tr>\n",
       "      <th>484424</th>\n",
       "      <td>1187899</td>\n",
       "      <td>39657</td>\n",
       "      <td>5</td>\n",
       "      <td>1</td>\n",
       "      <td>1</td>\n",
       "    </tr>\n",
       "    <tr>\n",
       "      <th>484425</th>\n",
       "      <td>1187899</td>\n",
       "      <td>10258</td>\n",
       "      <td>6</td>\n",
       "      <td>1</td>\n",
       "      <td>1</td>\n",
       "    </tr>\n",
       "    <tr>\n",
       "      <th>484426</th>\n",
       "      <td>1187899</td>\n",
       "      <td>13032</td>\n",
       "      <td>7</td>\n",
       "      <td>1</td>\n",
       "      <td>1</td>\n",
       "    </tr>\n",
       "    <tr>\n",
       "      <th>484427</th>\n",
       "      <td>1187899</td>\n",
       "      <td>26088</td>\n",
       "      <td>8</td>\n",
       "      <td>1</td>\n",
       "      <td>1</td>\n",
       "    </tr>\n",
       "    <tr>\n",
       "      <th>484428</th>\n",
       "      <td>1187899</td>\n",
       "      <td>27845</td>\n",
       "      <td>9</td>\n",
       "      <td>0</td>\n",
       "      <td>1</td>\n",
       "    </tr>\n",
       "    <tr>\n",
       "      <th>484429</th>\n",
       "      <td>1187899</td>\n",
       "      <td>49235</td>\n",
       "      <td>10</td>\n",
       "      <td>1</td>\n",
       "      <td>1</td>\n",
       "    </tr>\n",
       "    <tr>\n",
       "      <th>484430</th>\n",
       "      <td>1187899</td>\n",
       "      <td>46149</td>\n",
       "      <td>11</td>\n",
       "      <td>1</td>\n",
       "      <td>1</td>\n",
       "    </tr>\n",
       "  </tbody>\n",
       "</table>\n",
       "</div>"
      ],
      "text/plain": [
       "        order_id  product_id  add_to_cart_order  reordered  user_id\n",
       "484420   1187899         196                  1          1        1\n",
       "484421   1187899       25133                  2          1        1\n",
       "484422   1187899       38928                  3          1        1\n",
       "484423   1187899       26405                  4          1        1\n",
       "484424   1187899       39657                  5          1        1\n",
       "484425   1187899       10258                  6          1        1\n",
       "484426   1187899       13032                  7          1        1\n",
       "484427   1187899       26088                  8          1        1\n",
       "484428   1187899       27845                  9          0        1\n",
       "484429   1187899       49235                 10          1        1\n",
       "484430   1187899       46149                 11          1        1"
      ]
     },
     "execution_count": 27,
     "metadata": {},
     "output_type": "execute_result"
    }
   ],
   "source": [
    "# get unique user_ids to filter order_products__train:\n",
    "rec_list = pd.read_csv('top20_products_recom.csv')\n",
    "unique_user_ids = rec_list['user_id'].unique()"
   ]
  },
  {
   "cell_type": "markdown",
   "metadata": {},
   "source": [
    "### Generate an equivalent dataframe to the recommendations table"
   ]
  },
  {
   "cell_type": "code",
   "execution_count": 21,
   "metadata": {},
   "outputs": [
    {
     "data": {
      "text/html": [
       "<div>\n",
       "<style scoped>\n",
       "    .dataframe tbody tr th:only-of-type {\n",
       "        vertical-align: middle;\n",
       "    }\n",
       "\n",
       "    .dataframe tbody tr th {\n",
       "        vertical-align: top;\n",
       "    }\n",
       "\n",
       "    .dataframe thead th {\n",
       "        text-align: right;\n",
       "    }\n",
       "</style>\n",
       "<table border=\"1\" class=\"dataframe\">\n",
       "  <thead>\n",
       "    <tr style=\"text-align: right;\">\n",
       "      <th></th>\n",
       "      <th>product_id</th>\n",
       "      <th>product_name</th>\n",
       "      <th>organic</th>\n",
       "      <th>freq_rank</th>\n",
       "      <th>rec_rank</th>\n",
       "      <th>user_id</th>\n",
       "    </tr>\n",
       "  </thead>\n",
       "  <tbody>\n",
       "    <tr>\n",
       "      <th>0</th>\n",
       "      <td>24852</td>\n",
       "      <td>Banana</td>\n",
       "      <td>0</td>\n",
       "      <td>1</td>\n",
       "      <td>1</td>\n",
       "      <td>1</td>\n",
       "    </tr>\n",
       "    <tr>\n",
       "      <th>1</th>\n",
       "      <td>13176</td>\n",
       "      <td>Bag of Organic Bananas</td>\n",
       "      <td>1</td>\n",
       "      <td>2</td>\n",
       "      <td>2</td>\n",
       "      <td>1</td>\n",
       "    </tr>\n",
       "    <tr>\n",
       "      <th>2</th>\n",
       "      <td>21137</td>\n",
       "      <td>Organic Strawberries</td>\n",
       "      <td>1</td>\n",
       "      <td>3</td>\n",
       "      <td>3</td>\n",
       "      <td>1</td>\n",
       "    </tr>\n",
       "    <tr>\n",
       "      <th>3</th>\n",
       "      <td>21903</td>\n",
       "      <td>Organic Baby Spinach</td>\n",
       "      <td>1</td>\n",
       "      <td>4</td>\n",
       "      <td>4</td>\n",
       "      <td>1</td>\n",
       "    </tr>\n",
       "    <tr>\n",
       "      <th>4</th>\n",
       "      <td>47626</td>\n",
       "      <td>Large Lemon</td>\n",
       "      <td>0</td>\n",
       "      <td>5</td>\n",
       "      <td>5</td>\n",
       "      <td>1</td>\n",
       "    </tr>\n",
       "    <tr>\n",
       "      <th>5</th>\n",
       "      <td>47766</td>\n",
       "      <td>Organic Avocado</td>\n",
       "      <td>1</td>\n",
       "      <td>6</td>\n",
       "      <td>6</td>\n",
       "      <td>1</td>\n",
       "    </tr>\n",
       "    <tr>\n",
       "      <th>6</th>\n",
       "      <td>47209</td>\n",
       "      <td>Organic Hass Avocado</td>\n",
       "      <td>1</td>\n",
       "      <td>7</td>\n",
       "      <td>7</td>\n",
       "      <td>1</td>\n",
       "    </tr>\n",
       "    <tr>\n",
       "      <th>7</th>\n",
       "      <td>16797</td>\n",
       "      <td>Strawberries</td>\n",
       "      <td>0</td>\n",
       "      <td>8</td>\n",
       "      <td>8</td>\n",
       "      <td>1</td>\n",
       "    </tr>\n",
       "    <tr>\n",
       "      <th>8</th>\n",
       "      <td>26209</td>\n",
       "      <td>Limes</td>\n",
       "      <td>0</td>\n",
       "      <td>9</td>\n",
       "      <td>9</td>\n",
       "      <td>1</td>\n",
       "    </tr>\n",
       "    <tr>\n",
       "      <th>9</th>\n",
       "      <td>27966</td>\n",
       "      <td>Organic Raspberries</td>\n",
       "      <td>1</td>\n",
       "      <td>10</td>\n",
       "      <td>10</td>\n",
       "      <td>1</td>\n",
       "    </tr>\n",
       "    <tr>\n",
       "      <th>10</th>\n",
       "      <td>39275</td>\n",
       "      <td>Organic Blueberries</td>\n",
       "      <td>1</td>\n",
       "      <td>11</td>\n",
       "      <td>11</td>\n",
       "      <td>1</td>\n",
       "    </tr>\n",
       "    <tr>\n",
       "      <th>11</th>\n",
       "      <td>27845</td>\n",
       "      <td>Organic Whole Milk</td>\n",
       "      <td>1</td>\n",
       "      <td>12</td>\n",
       "      <td>12</td>\n",
       "      <td>1</td>\n",
       "    </tr>\n",
       "    <tr>\n",
       "      <th>12</th>\n",
       "      <td>30391</td>\n",
       "      <td>Organic Cucumber</td>\n",
       "      <td>1</td>\n",
       "      <td>13</td>\n",
       "      <td>13</td>\n",
       "      <td>1</td>\n",
       "    </tr>\n",
       "    <tr>\n",
       "      <th>13</th>\n",
       "      <td>45007</td>\n",
       "      <td>Organic Zucchini</td>\n",
       "      <td>1</td>\n",
       "      <td>14</td>\n",
       "      <td>14</td>\n",
       "      <td>1</td>\n",
       "    </tr>\n",
       "    <tr>\n",
       "      <th>14</th>\n",
       "      <td>22935</td>\n",
       "      <td>Organic Yellow Onion</td>\n",
       "      <td>1</td>\n",
       "      <td>15</td>\n",
       "      <td>15</td>\n",
       "      <td>1</td>\n",
       "    </tr>\n",
       "    <tr>\n",
       "      <th>15</th>\n",
       "      <td>24964</td>\n",
       "      <td>Organic Garlic</td>\n",
       "      <td>1</td>\n",
       "      <td>16</td>\n",
       "      <td>16</td>\n",
       "      <td>1</td>\n",
       "    </tr>\n",
       "    <tr>\n",
       "      <th>16</th>\n",
       "      <td>4920</td>\n",
       "      <td>Seedless Red Grapes</td>\n",
       "      <td>0</td>\n",
       "      <td>17</td>\n",
       "      <td>17</td>\n",
       "      <td>1</td>\n",
       "    </tr>\n",
       "    <tr>\n",
       "      <th>17</th>\n",
       "      <td>46979</td>\n",
       "      <td>Asparagus</td>\n",
       "      <td>0</td>\n",
       "      <td>18</td>\n",
       "      <td>18</td>\n",
       "      <td>1</td>\n",
       "    </tr>\n",
       "    <tr>\n",
       "      <th>18</th>\n",
       "      <td>40706</td>\n",
       "      <td>Organic Grape Tomatoes</td>\n",
       "      <td>1</td>\n",
       "      <td>19</td>\n",
       "      <td>19</td>\n",
       "      <td>1</td>\n",
       "    </tr>\n",
       "    <tr>\n",
       "      <th>19</th>\n",
       "      <td>8518</td>\n",
       "      <td>Organic Red Onion</td>\n",
       "      <td>1</td>\n",
       "      <td>20</td>\n",
       "      <td>20</td>\n",
       "      <td>1</td>\n",
       "    </tr>\n",
       "    <tr>\n",
       "      <th>20</th>\n",
       "      <td>24852</td>\n",
       "      <td>Banana</td>\n",
       "      <td>0</td>\n",
       "      <td>1</td>\n",
       "      <td>1</td>\n",
       "      <td>2</td>\n",
       "    </tr>\n",
       "    <tr>\n",
       "      <th>21</th>\n",
       "      <td>13176</td>\n",
       "      <td>Bag of Organic Bananas</td>\n",
       "      <td>1</td>\n",
       "      <td>2</td>\n",
       "      <td>2</td>\n",
       "      <td>2</td>\n",
       "    </tr>\n",
       "    <tr>\n",
       "      <th>22</th>\n",
       "      <td>21137</td>\n",
       "      <td>Organic Strawberries</td>\n",
       "      <td>1</td>\n",
       "      <td>3</td>\n",
       "      <td>3</td>\n",
       "      <td>2</td>\n",
       "    </tr>\n",
       "    <tr>\n",
       "      <th>23</th>\n",
       "      <td>21903</td>\n",
       "      <td>Organic Baby Spinach</td>\n",
       "      <td>1</td>\n",
       "      <td>4</td>\n",
       "      <td>4</td>\n",
       "      <td>2</td>\n",
       "    </tr>\n",
       "    <tr>\n",
       "      <th>24</th>\n",
       "      <td>47626</td>\n",
       "      <td>Large Lemon</td>\n",
       "      <td>0</td>\n",
       "      <td>5</td>\n",
       "      <td>5</td>\n",
       "      <td>2</td>\n",
       "    </tr>\n",
       "  </tbody>\n",
       "</table>\n",
       "</div>"
      ],
      "text/plain": [
       "    product_id            product_name  organic  freq_rank  rec_rank  user_id\n",
       "0        24852                  Banana        0          1         1        1\n",
       "1        13176  Bag of Organic Bananas        1          2         2        1\n",
       "2        21137    Organic Strawberries        1          3         3        1\n",
       "3        21903    Organic Baby Spinach        1          4         4        1\n",
       "4        47626             Large Lemon        0          5         5        1\n",
       "5        47766         Organic Avocado        1          6         6        1\n",
       "6        47209    Organic Hass Avocado        1          7         7        1\n",
       "7        16797            Strawberries        0          8         8        1\n",
       "8        26209                   Limes        0          9         9        1\n",
       "9        27966     Organic Raspberries        1         10        10        1\n",
       "10       39275     Organic Blueberries        1         11        11        1\n",
       "11       27845      Organic Whole Milk        1         12        12        1\n",
       "12       30391        Organic Cucumber        1         13        13        1\n",
       "13       45007        Organic Zucchini        1         14        14        1\n",
       "14       22935    Organic Yellow Onion        1         15        15        1\n",
       "15       24964          Organic Garlic        1         16        16        1\n",
       "16        4920     Seedless Red Grapes        0         17        17        1\n",
       "17       46979               Asparagus        0         18        18        1\n",
       "18       40706  Organic Grape Tomatoes        1         19        19        1\n",
       "19        8518       Organic Red Onion        1         20        20        1\n",
       "20       24852                  Banana        0          1         1        2\n",
       "21       13176  Bag of Organic Bananas        1          2         2        2\n",
       "22       21137    Organic Strawberries        1          3         3        2\n",
       "23       21903    Organic Baby Spinach        1          4         4        2\n",
       "24       47626             Large Lemon        0          5         5        2"
      ]
     },
     "metadata": {},
     "output_type": "display_data"
    },
    {
     "data": {
      "text/plain": [
       "1000000"
      ]
     },
     "metadata": {},
     "output_type": "display_data"
    },
    {
     "name": "stdout",
     "output_type": "stream",
     "text": [
      "CPU times: user 13.5 s, sys: 298 ms, total: 13.8 s\n",
      "Wall time: 14.1 s\n"
     ]
    }
   ],
   "source": [
    "%%time\n",
    "\n",
    "# Create dataframe equivalent to rec_list except it's the most popular items for each user.\n",
    "rec_user = top20products[['product_id','product_name','organic']]\n",
    "rec_user['freq_rank'] = np.arange(1,21)\n",
    "rec_user['rec_rank'] = np.arange(1,21)\n",
    "\n",
    "# use pd.concat and np.repeat rather than .append over and over.\n",
    "rec_list_onlypopular = pd.concat([rec_user]*50000, ignore_index=True)\n",
    "rec_list_onlypopular['user_id'] = np.repeat(unique_user_ids,20)\n",
    "\n",
    "display(rec_list_onlypopular.head(25))\n",
    "display(len(rec_list_onlypopular))"
   ]
  },
  {
   "cell_type": "markdown",
   "metadata": {},
   "source": [
    "### Repeat the same process as if the recommendations were just the popular items"
   ]
  },
  {
   "cell_type": "code",
   "execution_count": 30,
   "metadata": {},
   "outputs": [
    {
     "data": {
      "text/plain": [
       "product_id       24852\n",
       "product_name    Banana\n",
       "organic              0\n",
       "freq_rank            1\n",
       "rec_rank             1\n",
       "user_id              1\n",
       "Name: 0, dtype: object"
      ]
     },
     "metadata": {},
     "output_type": "display_data"
    },
    {
     "data": {
      "text/plain": [
       "[196, 25133, 38928, 26405, 39657, 10258, 13032, 26088, 27845, 49235, 46149]"
      ]
     },
     "metadata": {},
     "output_type": "display_data"
    },
    {
     "data": {
      "text/plain": [
       "False"
      ]
     },
     "metadata": {},
     "output_type": "display_data"
    },
    {
     "data": {
      "text/html": [
       "<div>\n",
       "<style scoped>\n",
       "    .dataframe tbody tr th:only-of-type {\n",
       "        vertical-align: middle;\n",
       "    }\n",
       "\n",
       "    .dataframe tbody tr th {\n",
       "        vertical-align: top;\n",
       "    }\n",
       "\n",
       "    .dataframe thead th {\n",
       "        text-align: right;\n",
       "    }\n",
       "</style>\n",
       "<table border=\"1\" class=\"dataframe\">\n",
       "  <thead>\n",
       "    <tr style=\"text-align: right;\">\n",
       "      <th></th>\n",
       "      <th>product_id</th>\n",
       "      <th>product_name</th>\n",
       "      <th>organic</th>\n",
       "      <th>freq_rank</th>\n",
       "      <th>rec_rank</th>\n",
       "      <th>user_id</th>\n",
       "      <th>actually_in_user_order</th>\n",
       "    </tr>\n",
       "  </thead>\n",
       "  <tbody>\n",
       "    <tr>\n",
       "      <th>0</th>\n",
       "      <td>24852</td>\n",
       "      <td>Banana</td>\n",
       "      <td>0</td>\n",
       "      <td>1</td>\n",
       "      <td>1</td>\n",
       "      <td>1</td>\n",
       "      <td>False</td>\n",
       "    </tr>\n",
       "    <tr>\n",
       "      <th>1</th>\n",
       "      <td>13176</td>\n",
       "      <td>Bag of Organic Bananas</td>\n",
       "      <td>1</td>\n",
       "      <td>2</td>\n",
       "      <td>2</td>\n",
       "      <td>1</td>\n",
       "      <td>False</td>\n",
       "    </tr>\n",
       "    <tr>\n",
       "      <th>2</th>\n",
       "      <td>21137</td>\n",
       "      <td>Organic Strawberries</td>\n",
       "      <td>1</td>\n",
       "      <td>3</td>\n",
       "      <td>3</td>\n",
       "      <td>1</td>\n",
       "      <td>False</td>\n",
       "    </tr>\n",
       "    <tr>\n",
       "      <th>3</th>\n",
       "      <td>21903</td>\n",
       "      <td>Organic Baby Spinach</td>\n",
       "      <td>1</td>\n",
       "      <td>4</td>\n",
       "      <td>4</td>\n",
       "      <td>1</td>\n",
       "      <td>False</td>\n",
       "    </tr>\n",
       "    <tr>\n",
       "      <th>4</th>\n",
       "      <td>47626</td>\n",
       "      <td>Large Lemon</td>\n",
       "      <td>0</td>\n",
       "      <td>5</td>\n",
       "      <td>5</td>\n",
       "      <td>1</td>\n",
       "      <td>False</td>\n",
       "    </tr>\n",
       "    <tr>\n",
       "      <th>...</th>\n",
       "      <td>...</td>\n",
       "      <td>...</td>\n",
       "      <td>...</td>\n",
       "      <td>...</td>\n",
       "      <td>...</td>\n",
       "      <td>...</td>\n",
       "      <td>...</td>\n",
       "    </tr>\n",
       "    <tr>\n",
       "      <th>999995</th>\n",
       "      <td>24964</td>\n",
       "      <td>Organic Garlic</td>\n",
       "      <td>1</td>\n",
       "      <td>16</td>\n",
       "      <td>16</td>\n",
       "      <td>78707</td>\n",
       "      <td>False</td>\n",
       "    </tr>\n",
       "    <tr>\n",
       "      <th>999996</th>\n",
       "      <td>4920</td>\n",
       "      <td>Seedless Red Grapes</td>\n",
       "      <td>0</td>\n",
       "      <td>17</td>\n",
       "      <td>17</td>\n",
       "      <td>78707</td>\n",
       "      <td>False</td>\n",
       "    </tr>\n",
       "    <tr>\n",
       "      <th>999997</th>\n",
       "      <td>46979</td>\n",
       "      <td>Asparagus</td>\n",
       "      <td>0</td>\n",
       "      <td>18</td>\n",
       "      <td>18</td>\n",
       "      <td>78707</td>\n",
       "      <td>False</td>\n",
       "    </tr>\n",
       "    <tr>\n",
       "      <th>999998</th>\n",
       "      <td>40706</td>\n",
       "      <td>Organic Grape Tomatoes</td>\n",
       "      <td>1</td>\n",
       "      <td>19</td>\n",
       "      <td>19</td>\n",
       "      <td>78707</td>\n",
       "      <td>False</td>\n",
       "    </tr>\n",
       "    <tr>\n",
       "      <th>999999</th>\n",
       "      <td>8518</td>\n",
       "      <td>Organic Red Onion</td>\n",
       "      <td>1</td>\n",
       "      <td>20</td>\n",
       "      <td>20</td>\n",
       "      <td>78707</td>\n",
       "      <td>False</td>\n",
       "    </tr>\n",
       "  </tbody>\n",
       "</table>\n",
       "<p>1000000 rows × 7 columns</p>\n",
       "</div>"
      ],
      "text/plain": [
       "        product_id            product_name  organic  freq_rank  rec_rank  \\\n",
       "0            24852                  Banana        0          1         1   \n",
       "1            13176  Bag of Organic Bananas        1          2         2   \n",
       "2            21137    Organic Strawberries        1          3         3   \n",
       "3            21903    Organic Baby Spinach        1          4         4   \n",
       "4            47626             Large Lemon        0          5         5   \n",
       "...            ...                     ...      ...        ...       ...   \n",
       "999995       24964          Organic Garlic        1         16        16   \n",
       "999996        4920     Seedless Red Grapes        0         17        17   \n",
       "999997       46979               Asparagus        0         18        18   \n",
       "999998       40706  Organic Grape Tomatoes        1         19        19   \n",
       "999999        8518       Organic Red Onion        1         20        20   \n",
       "\n",
       "        user_id  actually_in_user_order  \n",
       "0             1                   False  \n",
       "1             1                   False  \n",
       "2             1                   False  \n",
       "3             1                   False  \n",
       "4             1                   False  \n",
       "...         ...                     ...  \n",
       "999995    78707                   False  \n",
       "999996    78707                   False  \n",
       "999997    78707                   False  \n",
       "999998    78707                   False  \n",
       "999999    78707                   False  \n",
       "\n",
       "[1000000 rows x 7 columns]"
      ]
     },
     "metadata": {},
     "output_type": "display_data"
    },
    {
     "name": "stdout",
     "output_type": "stream",
     "text": [
      "CPU times: user 23.2 s, sys: 334 ms, total: 23.5 s\n",
      "Wall time: 23.7 s\n"
     ]
    }
   ],
   "source": [
    "%%time\n",
    "\n",
    "# Map function rec_prod_ordered (defined above) function over all recommended items (slow, but we only need once).\n",
    "\n",
    "# Test function on one row first:\n",
    "display(rec_list_onlypopular.iloc[0])\n",
    "display(prods_dict[1])\n",
    "display(rec_prod_ordered(rec_list_onlypopular.iloc[0])) # User 1 didn't buy Organic bananas, so returned false as expected.\n",
    "\n",
    "# Map function over all recommended items:\n",
    "rec_list_onlypopular['actually_in_user_order'] = rec_list_onlypopular.apply(rec_prod_ordered,axis=1)\n",
    "display(rec_list_onlypopular)\n",
    "# Then can calculate precision_at_k using groupby and taking top k."
   ]
  },
  {
   "cell_type": "code",
   "execution_count": 31,
   "metadata": {},
   "outputs": [
    {
     "data": {
      "text/plain": [
       "False    0.946827\n",
       "True     0.053173\n",
       "Name: actually_in_user_order, dtype: float64"
      ]
     },
     "execution_count": 31,
     "metadata": {},
     "output_type": "execute_result"
    }
   ],
   "source": [
    "#only 5% of top 20 popular items actually purchased by users\n",
    "rec_list_onlypopular['actually_in_user_order'].value_counts(normalize=True) "
   ]
  },
  {
   "cell_type": "code",
   "execution_count": 32,
   "metadata": {},
   "outputs": [],
   "source": [
    "# export so don't have to do it again.\n",
    "rec_list_onlypopular.to_csv('top20_popular_products_recom_validation.csv')"
   ]
  },
  {
   "cell_type": "markdown",
   "metadata": {},
   "source": [
    "### Calculating precision at k and relevance at k using popular items"
   ]
  },
  {
   "cell_type": "code",
   "execution_count": 10,
   "metadata": {},
   "outputs": [],
   "source": [
    "# if re-running this notebook, load the DF from CSV\n",
    "rec_list_onlypopular = pd.read_csv('top20_popular_products_recom_validation.csv')\n",
    "rec_list_onlypopular.drop(['Unnamed: 0'],axis=1,inplace=True)"
   ]
  },
  {
   "cell_type": "code",
   "execution_count": 35,
   "metadata": {},
   "outputs": [
    {
     "name": "stdout",
     "output_type": "stream",
     "text": [
      "[0.14446, 0.13083, 0.11528666666666666, 0.105375, 0.09669200000000001, 0.08986666666666668, 0.08510857142857141, 0.0805775, 0.07674888888888888, 0.07338, 0.07013272727272726, 0.06734166666666666, 0.06494153846153847, 0.0627742857142857, 0.06081733333333333, 0.059015, 0.057332941176470587, 0.05581333333333334, 0.05443894736842105, 0.053173000000000005]\n"
     ]
    }
   ],
   "source": [
    "# Calculating precision at k for multiple ks\n",
    "def precision_at_k_popular(k):\n",
    "    all_hits = rec_list_onlypopular.loc[\n",
    "        rec_list_onlypopular['rec_rank']<=k][['user_id','actually_in_user_order']].groupby('user_id').sum()\n",
    "    all_patks = all_hits.values/k\n",
    "    return all_patks, all_patks.mean()\n",
    "\n",
    "patk_by_k = []\n",
    "for sample_k in np.arange(1,21):\n",
    "    patk_all, mean_patk = precision_at_k_popular(sample_k)\n",
    "    patk_by_k.append(mean_patk)\n",
    "    \n",
    "print(patk_by_k)"
   ]
  },
  {
   "cell_type": "code",
   "execution_count": 39,
   "metadata": {},
   "outputs": [
    {
     "name": "stdout",
     "output_type": "stream",
     "text": [
      "10\n"
     ]
    },
    {
     "data": {
      "image/png": "[encoded data removed]",
      "text/plain": [
       "<Figure size 432x288 with 1 Axes>"
      ]
     },
     "metadata": {
      "needs_background": "light"
     },
     "output_type": "display_data"
    },
    {
     "name": "stdout",
     "output_type": "stream",
     "text": [
      "0.07338\n"
     ]
    },
    {
     "data": {
      "text/plain": [
       "0.09888465806180452"
      ]
     },
     "execution_count": 39,
     "metadata": {},
     "output_type": "execute_result"
    }
   ],
   "source": [
    "sample_k = 10\n",
    "print(sample_k)\n",
    "patk_all, mean_patk = precision_at_k_popular(sample_k)\n",
    "plt.hist(patk_all,bins=np.arange(-0.05,0.85,0.1))\n",
    "plt.xlabel('Precision at 10')\n",
    "plt.ylabel('Number of users')\n",
    "plt.show()\n",
    "print(mean_patk)\n",
    "np.std(patk_all)"
   ]
  },
  {
   "cell_type": "code",
   "execution_count": 11,
   "metadata": {},
   "outputs": [
    {
     "name": "stdout",
     "output_type": "stream",
     "text": [
      "[0.14446, 0.26148, 0.30522, 0.34316, 0.37336, 0.39304, 0.41308, 0.43562, 0.44872, 0.45922, 0.46886, 0.47972, 0.4874, 0.49456, 0.50284, 0.5088, 0.51554, 0.52156, 0.526, 0.52978]\n"
     ]
    }
   ],
   "source": [
    "# Calculating the average at k for multiple ks\n",
    "def atleastonerelevant_at_k(k):\n",
    "    all_atoratks = rec_list_onlypopular.loc[\n",
    "        rec_list_onlypopular['rec_rank']<=k][['user_id','actually_in_user_order']].groupby('user_id').max()\n",
    "    return all_atoratks.values, all_atoratks.values.mean()\n",
    "\n",
    "atoratks_by_k = []\n",
    "for sample_k in np.arange(1,21):\n",
    "    atoratk_all, mean_atoratk = atleastonerelevant_at_k(sample_k)\n",
    "    atoratks_by_k.append(mean_atoratk)\n",
    "    \n",
    "print(atoratks_by_k)"
   ]
  },
  {
   "cell_type": "code",
   "execution_count": 14,
   "metadata": {},
   "outputs": [
    {
     "name": "stdout",
     "output_type": "stream",
     "text": [
      "[0.132, 0.21496, 0.28222, 0.33614, 0.37408, 0.40416, 0.42638, 0.44566, 0.46152, 0.47488, 0.4864, 0.49652, 0.50602, 0.51488, 0.5226, 0.52994, 0.5372, 0.54348, 0.55034, 0.55634]\n"
     ]
    }
   ],
   "source": [
    "print('At least one relevant recommendation at k for colab filter model:')\n",
    "print([0.132, 0.21496, 0.28222, 0.33614, 0.37408, 0.40416, 0.42638, 0.44566, 0.46152, 0.47488, 0.4864, 0.49652, 0.50602, 0.51488, 0.5226, 0.52994, 0.5372, 0.54348, 0.55034, 0.55634])\n",
    "#overtakes just recommending the most popular model after the top 5 recommendations"
   ]
  },
  {
   "cell_type": "code",
   "execution_count": 12,
   "metadata": {},
   "outputs": [
    {
     "data": {
      "image/png": "[encoded data removed]",
      "text/plain": [
       "<Figure size 432x288 with 1 Axes>"
      ]
     },
     "metadata": {
      "needs_background": "light"
     },
     "output_type": "display_data"
    }
   ],
   "source": [
    "plt.figure()\n",
    "plt.bar(np.arange(1,21),atoratks_by_k)\n",
    "plt.xticks(np.arange(2,21,2))\n",
    "plt.xlabel('k')\n",
    "plt.ylabel('At least one relevant recommendation at k')\n",
    "plt.show()"
   ]
  },
  {
   "cell_type": "markdown",
   "metadata": {},
   "source": [
    "## At what k does is it better to use the collaborative filter versus just recommending the top items"
   ]
  },
  {
   "cell_type": "code",
   "execution_count": 10,
   "metadata": {},
   "outputs": [
    {
     "data": {
      "image/png": "[encoded data removed]",
      "text/plain": [
       "<Figure size 432x288 with 1 Axes>"
      ]
     },
     "metadata": {
      "needs_background": "light"
     },
     "output_type": "display_data"
    }
   ],
   "source": [
    "relevant_at_k_colab = [0.132, 0.21496, 0.28222, 0.33614, 0.37408, 0.40416, 0.42638, 0.44566, 0.46152, 0.47488, 0.4864, 0.49652, 0.50602, 0.51488, 0.5226, 0.52994, 0.5372, 0.54348, 0.55034, 0.55634]\n",
    "relevant_at_k_pop = [0.14446, 0.26148, 0.30522, 0.34316, 0.37336, 0.39304, 0.41308, 0.43562, 0.44872, 0.45922, 0.46886, 0.47972, 0.4874, 0.49456, 0.50284, 0.5088, 0.51554, 0.52156, 0.526, 0.52978]\n",
    "\n",
    "fig,ax = plt.subplots()\n",
    "plt.plot(np.arange(1,21),relevant_at_k_colab,label='Collaborative filter')\n",
    "plt.plot(np.arange(1,21),relevant_at_k_pop,label='Popular products')\n",
    "plt.legend()\n",
    "plt.xticks(np.arange(2,21,2))\n",
    "plt.xlabel('k')\n",
    "plt.ylabel('At least one relevant\\nrecommendation at k')\n",
    "plt.show()"
   ]
  },
  {
   "cell_type": "markdown",
   "metadata": {},
   "source": [
    "5 items"
   ]
  }
 ],
 "metadata": {
  "kernelspec": {
   "display_name": "Python 3",
   "language": "python",
   "name": "python3"
  },
  "language_info": {
   "codemirror_mode": {
    "name": "ipython",
    "version": 3
   },
   "file_extension": ".py",
   "mimetype": "text/x-python",
   "name": "python",
   "nbconvert_exporter": "python",
   "pygments_lexer": "ipython3",
   "version": "3.7.6"
  }
 },
 "nbformat": 4,
 "nbformat_minor": 2
}
